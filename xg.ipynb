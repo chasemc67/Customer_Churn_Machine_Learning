{
 "cells": [
  {
   "cell_type": "code",
   "execution_count": 1,
   "metadata": {
    "collapsed": false
   },
   "outputs": [
    {
     "name": "stderr",
     "output_type": "stream",
     "text": [
      "/usr/local/lib/python3.5/site-packages/sklearn/cross_validation.py:44: DeprecationWarning: This module was deprecated in version 0.18 in favor of the model_selection module into which all the refactored classes and functions are moved. Also note that the interface of the new CV iterators are different from that of this module. This module will be removed in 0.20.\n",
      "  \"This module will be removed in 0.20.\", DeprecationWarning)\n"
     ]
    }
   ],
   "source": [
    "import pandas as pd\n",
    "import numpy as np\n",
    "import glob\n",
    "%matplotlib inline\n",
    "import seaborn as sns\n",
    "import matplotlib.pyplot as plt, mpld3\n",
    "import os\n",
    "from sklearn import metrics\n",
    "from sklearn.preprocessing import LabelEncoder\n",
    "from scipy.sparse import csr_matrix, hstack\n",
    "from sklearn.linear_model import LogisticRegression\n",
    "from sklearn.cross_validation import StratifiedKFold\n",
    "from sklearn.metrics import log_loss\n",
    "from xgboost.sklearn import XGBClassifier\n",
    "import xgboost as xgb\n",
    "from sklearn.ensemble import GradientBoostingClassifier \n",
    "from sklearn.ensemble import ExtraTreesClassifier as ET\n",
    "from sklearn.linear_model import SGDClassifier\n",
    "from sklearn.feature_extraction import DictVectorizer as DV\n",
    "\n",
    "from sklearn.cross_validation import cross_val_score\n",
    "from xgboost import XGBClassifier\n",
    "from bayes_opt import BayesianOptimization\n",
    "from copy import deepcopy\n",
    "from sklearn.cross_validation import train_test_split\n",
    "import plotly.plotly as py\n",
    "import plotly.tools as tls"
   ]
  },
  {
   "cell_type": "markdown",
   "metadata": {},
   "source": [
    "You will need to install bayes_opt library \n",
    "\n",
    "sudo pip3 install git+https://github.com/fmfn/BayesianOptimization.git"
   ]
  },
  {
   "cell_type": "markdown",
   "metadata": {},
   "source": [
    "# Load files "
   ]
  },
  {
   "cell_type": "code",
   "execution_count": 2,
   "metadata": {
    "collapsed": true
   },
   "outputs": [],
   "source": [
    "df = pd.read_csv(\"Data/train_set.csv\")"
   ]
  },
  {
   "cell_type": "markdown",
   "metadata": {},
   "source": [
    "## Filling Nan with zeros. \n",
    "There is a one data point that is equal to 0 in plan_code ( which is a feature with categorical datatype AKA object)\n",
    "So, replace 0 with \"zero\". "
   ]
  },
  {
   "cell_type": "code",
   "execution_count": 3,
   "metadata": {
    "collapsed": false
   },
   "outputs": [],
   "source": [
    "df=df.fillna(0)\n",
    "df['plan_code'] = df['plan_code'].replace(0, 'zero')"
   ]
  },
  {
   "cell_type": "markdown",
   "metadata": {},
   "source": [
    "### Select all object( categorical ) features"
   ]
  },
  {
   "cell_type": "code",
   "execution_count": 4,
   "metadata": {
    "collapsed": true
   },
   "outputs": [],
   "source": [
    "objects = df.select_dtypes(include=[\"object\"]).columns"
   ]
  },
  {
   "cell_type": "code",
   "execution_count": 5,
   "metadata": {
    "collapsed": false
   },
   "outputs": [
    {
     "name": "stderr",
     "output_type": "stream",
     "text": [
      "/usr/local/lib/python3.5/site-packages/IPython/core/formatters.py:92: DeprecationWarning:\n",
      "\n",
      "DisplayFormatter._ipython_display_formatter_default is deprecated: use @default decorator instead.\n",
      "\n",
      "/usr/local/lib/python3.5/site-packages/IPython/core/formatters.py:669: DeprecationWarning:\n",
      "\n",
      "PlainTextFormatter._singleton_printers_default is deprecated: use @default decorator instead.\n",
      "\n"
     ]
    },
    {
     "data": {
      "text/plain": [
       "Index(['country', 'industry', 'industry_category', 'campaign_group',\n",
       "       'campaign_string', 'plan_code'],\n",
       "      dtype='object')"
      ]
     },
     "execution_count": 5,
     "metadata": {},
     "output_type": "execute_result"
    }
   ],
   "source": [
    "objects"
   ]
  },
  {
   "cell_type": "markdown",
   "metadata": {},
   "source": [
    "### Sweet, now use labelEncoder to deal with categorical data"
   ]
  },
  {
   "cell_type": "code",
   "execution_count": 6,
   "metadata": {
    "collapsed": true
   },
   "outputs": [],
   "source": [
    "def encoder(df,listOfObjects):\n",
    "    encode = LabelEncoder()\n",
    "    for x in listOfObjects:\n",
    "        print(x)\n",
    "        df[x] = encode.fit_transform(df[x])"
   ]
  },
  {
   "cell_type": "code",
   "execution_count": 7,
   "metadata": {
    "collapsed": false
   },
   "outputs": [
    {
     "name": "stdout",
     "output_type": "stream",
     "text": [
      "country\n",
      "industry\n",
      "industry_category\n",
      "campaign_group\n",
      "campaign_string\n",
      "plan_code\n"
     ]
    }
   ],
   "source": [
    "encoder(df,objects)"
   ]
  },
  {
   "cell_type": "markdown",
   "metadata": {},
   "source": [
    "### Now data is encoded and ready to go "
   ]
  },
  {
   "cell_type": "code",
   "execution_count": 9,
   "metadata": {
    "collapsed": true
   },
   "outputs": [],
   "source": [
    "# make a copy ( just in case you want your original df to be intact)\n",
    "train = df.copy()"
   ]
  },
  {
   "cell_type": "markdown",
   "metadata": {},
   "source": [
    "### make the labels ( y ) and train ( X ), delete \"renewed\" and \"cancellation_request\" from train."
   ]
  },
  {
   "cell_type": "code",
   "execution_count": 10,
   "metadata": {
    "collapsed": true
   },
   "outputs": [],
   "source": [
    "labels = train.renewed.values\n",
    "train.drop(['renewed'], axis=1, inplace=True)\n",
    "train.drop(['cancellation_request'], axis=1, inplace=True)"
   ]
  },
  {
   "cell_type": "markdown",
   "metadata": {},
   "source": [
    "# ---> now we want to change and add more stuff to ( train ) only:"
   ]
  },
  {
   "cell_type": "markdown",
   "metadata": {},
   "source": [
    "## ======================="
   ]
  },
  {
   "cell_type": "markdown",
   "metadata": {},
   "source": [
    "# Feature Engineering"
   ]
  },
  {
   "cell_type": "markdown",
   "metadata": {},
   "source": [
    "## =======================\n"
   ]
  },
  {
   "cell_type": "markdown",
   "metadata": {},
   "source": [
    "#### If you feel like normalizing the data:"
   ]
  },
  {
   "cell_type": "code",
   "execution_count": 20,
   "metadata": {
    "collapsed": false
   },
   "outputs": [
    {
     "name": "stderr",
     "output_type": "stream",
     "text": [
      "/usr/local/lib/python3.5/site-packages/ipykernel/__main__.py:1: DeprecationWarning:\n",
      "\n",
      "numpy boolean subtract, the `-` operator, is deprecated, use the bitwise_xor, the `^` operator, or the logical_xor function instead.\n",
      "\n",
      "/usr/local/lib/python3.5/site-packages/ipykernel/__main__.py:1: DeprecationWarning:\n",
      "\n",
      "numpy boolean subtract, the `-` operator, is deprecated, use the bitwise_xor, the `^` operator, or the logical_xor function instead.\n",
      "\n",
      "/usr/local/lib/python3.5/site-packages/ipykernel/__main__.py:1: DeprecationWarning:\n",
      "\n",
      "numpy boolean subtract, the `-` operator, is deprecated, use the bitwise_xor, the `^` operator, or the logical_xor function instead.\n",
      "\n",
      "/usr/local/lib/python3.5/site-packages/ipykernel/__main__.py:1: DeprecationWarning:\n",
      "\n",
      "numpy boolean subtract, the `-` operator, is deprecated, use the bitwise_xor, the `^` operator, or the logical_xor function instead.\n",
      "\n",
      "/usr/local/lib/python3.5/site-packages/ipykernel/__main__.py:1: DeprecationWarning:\n",
      "\n",
      "numpy boolean subtract, the `-` operator, is deprecated, use the bitwise_xor, the `^` operator, or the logical_xor function instead.\n",
      "\n",
      "/usr/local/lib/python3.5/site-packages/ipykernel/__main__.py:1: DeprecationWarning:\n",
      "\n",
      "numpy boolean subtract, the `-` operator, is deprecated, use the bitwise_xor, the `^` operator, or the logical_xor function instead.\n",
      "\n"
     ]
    }
   ],
   "source": [
    "train = train.apply(lambda x:( (x - np.mean(x)) / (np.max(x) - np.min(x)) ))\n",
    "\n"
   ]
  },
  {
   "cell_type": "markdown",
   "metadata": {},
   "source": [
    "## --- This is an experiment I am doing, skip it and jump to part 2, or if you want to do more feature engineering, do it above begin{K nearest} , or below end{K nearest}"
   ]
  },
  {
   "cell_type": "markdown",
   "metadata": {},
   "source": [
    "# begin{K nearest} "
   ]
  },
  {
   "cell_type": "code",
   "execution_count": 11,
   "metadata": {
    "collapsed": false
   },
   "outputs": [],
   "source": [
    "from sklearn.neighbors import KNeighborsClassifier"
   ]
  },
  {
   "cell_type": "code",
   "execution_count": 18,
   "metadata": {
    "collapsed": true
   },
   "outputs": [],
   "source": [
    "#df.groupby(\"renewed\").hist()"
   ]
  },
  {
   "cell_type": "code",
   "execution_count": 12,
   "metadata": {
    "collapsed": true
   },
   "outputs": [],
   "source": [
    "knn = KNeighborsClassifier(n_neighbors=3) "
   ]
  },
  {
   "cell_type": "code",
   "execution_count": 13,
   "metadata": {
    "collapsed": false
   },
   "outputs": [],
   "source": [
    "train_knn = df.copy()\n",
    "y = train_knn.renewed.values\n",
    "train_knn.drop(['renewed'], axis=1, inplace=True)\n",
    "X = train_knn"
   ]
  },
  {
   "cell_type": "code",
   "execution_count": 14,
   "metadata": {
    "collapsed": false
   },
   "outputs": [
    {
     "data": {
      "text/plain": [
       "KNeighborsClassifier(algorithm='auto', leaf_size=30, metric='minkowski',\n",
       "           metric_params=None, n_jobs=1, n_neighbors=3, p=2,\n",
       "           weights='uniform')"
      ]
     },
     "execution_count": 14,
     "metadata": {},
     "output_type": "execute_result"
    }
   ],
   "source": [
    "\n",
    "knn.fit(X, y)"
   ]
  },
  {
   "cell_type": "code",
   "execution_count": 15,
   "metadata": {
    "collapsed": false
   },
   "outputs": [
    {
     "data": {
      "text/plain": [
       "0.86757546251217132"
      ]
     },
     "execution_count": 15,
     "metadata": {},
     "output_type": "execute_result"
    }
   ],
   "source": [
    "knn.score(X, y)"
   ]
  },
  {
   "cell_type": "code",
   "execution_count": 79,
   "metadata": {
    "collapsed": false
   },
   "outputs": [
    {
     "name": "stderr",
     "output_type": "stream",
     "text": [
      "/usr/local/lib/python3.5/site-packages/sklearn/utils/validation.py:395: DeprecationWarning:\n",
      "\n",
      "Passing 1d arrays as data is deprecated in 0.17 and will raise ValueError in 0.19. Reshape your data either using X.reshape(-1, 1) if your data has a single feature or X.reshape(1, -1) if it contains a single sample.\n",
      "\n"
     ]
    },
    {
     "data": {
      "text/plain": [
       "array([   1,  136, 1036])"
      ]
     },
     "execution_count": 79,
     "metadata": {},
     "output_type": "execute_result"
    }
   ],
   "source": [
    "v,index=knn.kneighbors(X[1])\n",
    "index[0]"
   ]
  },
  {
   "cell_type": "code",
   "execution_count": 103,
   "metadata": {
    "collapsed": false
   },
   "outputs": [],
   "source": [
    "kfeature = df.copy()\n",
    "y=kfeature.renewed.values\n",
    "kfeature.drop(['renewed'], axis=1, inplace=True)\n",
    "\n",
    "X=kfeature.values"
   ]
  },
  {
   "cell_type": "code",
   "execution_count": 50,
   "metadata": {
    "collapsed": false
   },
   "outputs": [
    {
     "data": {
      "text/plain": [
       "<matplotlib.axes._subplots.AxesSubplot at 0x110a4d6a0>"
      ]
     },
     "execution_count": 50,
     "metadata": {},
     "output_type": "execute_result"
    },
    {
     "data": {
      "image/png": "[encoded data removed]",
      "text/plain": [
       "<matplotlib.figure.Figure at 0x110a8cac8>"
      ]
     },
     "metadata": {},
     "output_type": "display_data"
    }
   ],
   "source": [
    "kfeature.days_since_client_created.hist()"
   ]
  },
  {
   "cell_type": "code",
   "execution_count": 32,
   "metadata": {
    "collapsed": false
   },
   "outputs": [
    {
     "ename": "TypeError",
     "evalue": "unsupported operand type(s) for -: 'int' and 'str'",
     "output_type": "error",
     "traceback": [
      "\u001b[0;31m--------------------------------------------------------------\u001b[0m",
      "\u001b[0;31mTypeError\u001b[0m                    Traceback (most recent call last)",
      "\u001b[0;32m<ipython-input-32-605c2c85e74a>\u001b[0m in \u001b[0;36m<module>\u001b[0;34m()\u001b[0m\n\u001b[1;32m      1\u001b[0m \u001b[0;31m# I put this bug on purpose:\u001b[0m\u001b[0;34m\u001b[0m\u001b[0;34m\u001b[0m\u001b[0m\n\u001b[0;32m----> 2\u001b[0;31m \u001b[0mi\u001b[0m \u001b[0;34m-\u001b[0m \u001b[0;34m\"hi\"\u001b[0m\u001b[0;34m\u001b[0m\u001b[0m\n\u001b[0m\u001b[1;32m      3\u001b[0m \u001b[0mkfeature\u001b[0m \u001b[0;34m=\u001b[0m \u001b[0mdf\u001b[0m\u001b[0;34m.\u001b[0m\u001b[0mcopy\u001b[0m\u001b[0;34m(\u001b[0m\u001b[0;34m)\u001b[0m\u001b[0;34m\u001b[0m\u001b[0m\n\u001b[1;32m      4\u001b[0m \u001b[0mkfeature\u001b[0m \u001b[0;34m=\u001b[0m \u001b[0mkfeature\u001b[0m\u001b[0;34m.\u001b[0m\u001b[0mfillna\u001b[0m\u001b[0;34m(\u001b[0m\u001b[0;36m0\u001b[0m\u001b[0;34m)\u001b[0m\u001b[0;34m\u001b[0m\u001b[0m\n\u001b[1;32m      5\u001b[0m \u001b[0;34m\u001b[0m\u001b[0m\n",
      "\u001b[0;31mTypeError\u001b[0m: unsupported operand type(s) for -: 'int' and 'str'"
     ]
    }
   ],
   "source": [
    "# I put this bug on purpose:\n",
    "i - \"hi\"\n",
    "\n",
    "kfeature = df.copy()\n",
    "kfeature = kfeature.fillna(0)\n",
    "\n",
    "\n",
    "kfeature.drop(['renewed'], axis=1, inplace=True)\n",
    "y = kfeature.industry_category.values\n",
    "kfeature.drop(['industry_category'], axis=1, inplace=True)\n",
    "kfeature.drop(['cancellation_request'], axis=1, inplace=True)\n",
    "knn = KNeighborsClassifier(n_neighbors=3) \n",
    "X = kfeature.values\n",
    "knn.fit(X,y)\n",
    "\n",
    "features_list = ['days_since_signup','days_since_job_created','days_since_invoice_created','days_since_quote_created']\n",
    "\n",
    "for i in X:\n",
    "    for j in features_list:\n",
    "        value = 1 \n",
    "        val,index=knn.kneighbors(i)\n",
    "        for m in range(1,len(index[0])-1):\n",
    "            temp = kfeature.loc[kfeature['id']==index[0][m]]\n",
    "            value += temp[j].mean()\n",
    "        kfeature.loc[kfeature['id']==index[0][0],\"k_\"+j] = value/3\n",
    "        kfeature.loc[kfeature['id']==index[0][1],\"k_\"+j] = value/3\n",
    "\n",
    "\n",
    "\n",
    "\n"
   ]
  },
  {
   "cell_type": "code",
   "execution_count": 16,
   "metadata": {
    "collapsed": false
   },
   "outputs": [],
   "source": [
    "#kfeature.count()"
   ]
  },
  {
   "cell_type": "code",
   "execution_count": 19,
   "metadata": {
    "collapsed": false
   },
   "outputs": [],
   "source": [
    "#kfeature = kfeature.fillna(0)\n"
   ]
  },
  {
   "cell_type": "markdown",
   "metadata": {},
   "source": [
    "# end{K nearest}"
   ]
  },
  {
   "cell_type": "markdown",
   "metadata": {},
   "source": [
    "# continue feature engineering"
   ]
  },
  {
   "cell_type": "markdown",
   "metadata": {},
   "source": [
    "# poly features\n",
    "### I did not work well and resulted in a lower score, so skip it\n",
    "\n"
   ]
  },
  {
   "cell_type": "code",
   "execution_count": null,
   "metadata": {
    "collapsed": true
   },
   "outputs": [],
   "source": [
    "poly_d = df.copy()"
   ]
  },
  {
   "cell_type": "code",
   "execution_count": null,
   "metadata": {
    "collapsed": false
   },
   "outputs": [],
   "source": [
    "from sklearn.preprocessing import PolynomialFeatures\n",
    "\n",
    "include = [\"days_since_signup\",\"days_since_job_created\",\"days_since_invoice_created\"]\n",
    "\n",
    "poly = PolynomialFeatures(degree = 2, include_bias=False)\n",
    "poly_arr = poly.fit_transform(poly_d[include].values)\n",
    "\n",
    "print( \"New data dimensions: \", poly_arr.shape)\n",
    "\n",
    "poly_df = pd.DataFrame(poly_arr)\n",
    "full = poly_df.join(poly_d)\n"
   ]
  },
  {
   "cell_type": "code",
   "execution_count": null,
   "metadata": {
    "collapsed": false
   },
   "outputs": [],
   "source": [
    "train = full\n",
    "train.drop('renewed', axis=1, inplace=True)\n",
    "train = train.values\n",
    "labels = poly_d[\"renewed\"].values"
   ]
  },
  {
   "cell_type": "markdown",
   "metadata": {},
   "source": [
    "# End poly features\n"
   ]
  },
  {
   "cell_type": "markdown",
   "metadata": {},
   "source": [
    "# Part 2"
   ]
  },
  {
   "cell_type": "markdown",
   "metadata": {},
   "source": [
    "# ============="
   ]
  },
  {
   "cell_type": "markdown",
   "metadata": {},
   "source": [
    "# training Algo = XGboost"
   ]
  },
  {
   "cell_type": "markdown",
   "metadata": {},
   "source": [
    "# ============="
   ]
  },
  {
   "cell_type": "code",
   "execution_count": 21,
   "metadata": {
    "collapsed": false
   },
   "outputs": [],
   "source": [
    "def xgboostcv(max_depth,\n",
    "              learning_rate,\n",
    "              n_estimators,\n",
    "              gamma,\n",
    "              min_child_weight,\n",
    "              max_delta_step,\n",
    "              subsample,\n",
    "              colsample_bytree,\n",
    "              silent =True,\n",
    "              nthread = -1,\n",
    "              seed = 1234):\n",
    "    return cross_val_score(XGBClassifier(max_depth = int(max_depth),\n",
    "                                         learning_rate = learning_rate,\n",
    "                                         n_estimators = int(n_estimators),\n",
    "                                         silent = silent,\n",
    "                                         nthread = nthread,\n",
    "                                         gamma = gamma,\n",
    "                                         min_child_weight = min_child_weight,\n",
    "                                         max_delta_step = max_delta_step,\n",
    "                                         subsample = subsample,\n",
    "                                         colsample_bytree = colsample_bytree,\n",
    "                                         seed = seed,\n",
    "                                         objective = \"binary:logistic\"),\n",
    "                           train,\n",
    "                           labels,\n",
    "                           \"f1\",\n",
    "                           cv=5).mean()\n"
   ]
  },
  {
   "cell_type": "code",
   "execution_count": 23,
   "metadata": {
    "collapsed": true
   },
   "outputs": [],
   "source": [
    "xgboostBO = BayesianOptimization(xgboostcv,\n",
    "                                     {'max_depth': (3, 30),\n",
    "                                      'learning_rate': (0.01, 0.5),\n",
    "                                      'n_estimators': (90, 800),\n",
    "                                      'gamma': (100., 0.1),\n",
    "                                      'min_child_weight': (1, 10),\n",
    "                                      'max_delta_step': (0, 3),\n",
    "                                      'subsample': (0.7, 0.8),\n",
    "                                      'colsample_bytree' :(0.4, 0.99)\n",
    "                                     })"
   ]
  },
  {
   "cell_type": "code",
   "execution_count": 22,
   "metadata": {
    "collapsed": false
   },
   "outputs": [
    {
     "ename": "NameError",
     "evalue": "name 'xgboostBO' is not defined",
     "output_type": "error",
     "traceback": [
      "\u001b[0;31m--------------------------------------------------------------\u001b[0m",
      "\u001b[0;31mNameError\u001b[0m                    Traceback (most recent call last)",
      "\u001b[0;32m<ipython-input-22-037b0846e413>\u001b[0m in \u001b[0;36m<module>\u001b[0;34m()\u001b[0m\n\u001b[0;32m----> 1\u001b[0;31m \u001b[0mxgboostBO\u001b[0m\u001b[0;34m.\u001b[0m\u001b[0mmaximize\u001b[0m\u001b[0;34m(\u001b[0m\u001b[0;34m)\u001b[0m\u001b[0;34m\u001b[0m\u001b[0m\n\u001b[0m\u001b[1;32m      2\u001b[0m \u001b[0mprint\u001b[0m\u001b[0;34m(\u001b[0m\u001b[0;34m'-'\u001b[0m\u001b[0;34m*\u001b[0m\u001b[0;36m53\u001b[0m\u001b[0;34m)\u001b[0m\u001b[0;34m\u001b[0m\u001b[0m\n\u001b[1;32m      3\u001b[0m \u001b[0;34m\u001b[0m\u001b[0m\n\u001b[1;32m      4\u001b[0m \u001b[0mprint\u001b[0m\u001b[0;34m(\u001b[0m\u001b[0;34m'Final Results'\u001b[0m\u001b[0;34m)\u001b[0m\u001b[0;34m\u001b[0m\u001b[0m\n\u001b[1;32m      5\u001b[0m \u001b[0mprint\u001b[0m\u001b[0;34m(\u001b[0m\u001b[0;34m'XGBOOST: %f'\u001b[0m \u001b[0;34m%\u001b[0m \u001b[0mxgboostBO\u001b[0m\u001b[0;34m.\u001b[0m\u001b[0mres\u001b[0m\u001b[0;34m[\u001b[0m\u001b[0;34m'max'\u001b[0m\u001b[0;34m]\u001b[0m\u001b[0;34m[\u001b[0m\u001b[0;34m'max_val'\u001b[0m\u001b[0;34m]\u001b[0m\u001b[0;34m)\u001b[0m\u001b[0;34m\u001b[0m\u001b[0m\n",
      "\u001b[0;31mNameError\u001b[0m: name 'xgboostBO' is not defined"
     ]
    }
   ],
   "source": [
    "xgboostBO.maximize()\n",
    "print('-'*53)\n",
    "\n",
    "print('Final Results')\n",
    "print('XGBOOST: %f' % xgboostBO.res['max']['max_val'])"
   ]
  },
  {
   "cell_type": "code",
   "execution_count": null,
   "metadata": {
    "collapsed": false
   },
   "outputs": [],
   "source": [
    "\n",
    "params = xgboostBO.res[\"max\"][\"max_params\"]\n",
    "\n",
    "print (\"F1 Score: \",params)"
   ]
  },
  {
   "cell_type": "code",
   "execution_count": 24,
   "metadata": {
    "collapsed": false
   },
   "outputs": [
    {
     "data": {
      "text/plain": [
       "0.81670598399468353"
      ]
     },
     "execution_count": 24,
     "metadata": {},
     "output_type": "execute_result"
    }
   ],
   "source": [
    "cross_val_score(XGBClassifier(max_depth = int(19.523816650751428),\n",
    "                                         learning_rate = 0.08085307502725142,\n",
    "                                         n_estimators = int( 562.42129696134589),\n",
    "                                         gamma = 20.01,\n",
    "                                         min_child_weight = 9.717152178478706,\n",
    "                                         max_delta_step = 2.8239768010888353,\n",
    "                                         subsample = 0.70582509792078929,\n",
    "                                         colsample_bytree = 0.91259070988965141,\n",
    "                                         objective = \"binary:logistic\"),\n",
    "                           train,\n",
    "                           labels,\n",
    "                           \"f1\",\n",
    "                           cv=5).mean()\n",
    "\n"
   ]
  },
  {
   "cell_type": "code",
   "execution_count": 26,
   "metadata": {
    "collapsed": false
   },
   "outputs": [],
   "source": [
    "def score(model, Xtrain,y,random_state = 0):\n",
    "    kf = StratifiedKFold(y, n_folds=4, shuffle=True, random_state=random_state)\n",
    "    pred = np.zeros((y.shape[0]))\n",
    "    Ave = []\n",
    "    for itrain, itest in kf:\n",
    "        Xtr, Xte = Xtrain[itrain, :], Xtrain[itest, :]\n",
    "        ytr, yte = y[itrain], y[itest]\n",
    "        model.fit(Xtr, ytr)\n",
    "        Ave.append(model.score(Xte,yte))\n",
    "        print (Ave[-1])\n",
    "        \n",
    "    print(\"Average: \",sum(Ave) / float(len(Ave)))\n",
    "        \n",
    "        "
   ]
  },
  {
   "cell_type": "code",
   "execution_count": 29,
   "metadata": {
    "collapsed": false
   },
   "outputs": [
    {
     "name": "stdout",
     "output_type": "stream",
     "text": [
      "0.869001297017\n",
      "0.892207792208\n",
      "0.88961038961\n",
      "0.885714285714\n",
      "Average:  0.884133441137\n"
     ]
    }
   ],
   "source": [
    "model = XGBClassifier(max_depth = int(19.523816650751428),\n",
    "                                         learning_rate = 0.08085307502725142,\n",
    "                                         n_estimators = int( 562.42129696134589),\n",
    "                                         gamma = 20.01,\n",
    "                                         min_child_weight = 9.717152178478706,\n",
    "                                         max_delta_step = 2.8239768010888353,\n",
    "                                         subsample = 0.70582509792078929,\n",
    "                                         colsample_bytree = 0.91259070988965141,\n",
    "                                         objective = \"binary:logistic\")\n",
    "score(model,train.values,labels)"
   ]
  },
  {
   "cell_type": "code",
   "execution_count": 101,
   "metadata": {
    "collapsed": false
   },
   "outputs": [
    {
     "data": {
      "text/plain": [
       "0.89465153970826583"
      ]
     },
     "execution_count": 101,
     "metadata": {},
     "output_type": "execute_result"
    }
   ],
   "source": [
    "X_train, X_test, y_train, y_test = train_test_split(X, y, test_size=0.2, random_state=0)\n",
    "model.fit(X_train,y_train)\n",
    "model.score(X_test,y_test)"
   ]
  },
  {
   "cell_type": "code",
   "execution_count": null,
   "metadata": {
    "collapsed": true
   },
   "outputs": [],
   "source": [
    ".892893803147\n",
    "0.89862124898621254"
   ]
  },
  {
   "cell_type": "code",
   "execution_count": null,
   "metadata": {
    "collapsed": false
   },
   "outputs": [],
   "source": [
    "fpr, tpr, thresholds = metrics.roc_curve(, pred, pos_label=2)"
   ]
  },
  {
   "cell_type": "code",
   "execution_count": null,
   "metadata": {
    "collapsed": false
   },
   "outputs": [],
   "source": [
    "cross_val_score(model, train, labels, scoring='log_loss')"
   ]
  },
  {
   "cell_type": "code",
   "execution_count": null,
   "metadata": {
    "collapsed": false
   },
   "outputs": [],
   "source": []
  },
  {
   "cell_type": "code",
   "execution_count": null,
   "metadata": {
    "collapsed": true
   },
   "outputs": [],
   "source": []
  }
 ],
 "metadata": {
  "kernelspec": {
   "display_name": "Python 3",
   "language": "python",
   "name": "python3"
  },
  "language_info": {
   "codemirror_mode": {
    "name": "ipython",
    "version": 3
   },
   "file_extension": ".py",
   "mimetype": "text/x-python",
   "name": "python",
   "nbconvert_exporter": "python",
   "pygments_lexer": "ipython3",
   "version": "3.5.1"
  }
 },
 "nbformat": 4,
 "nbformat_minor": 0
}
